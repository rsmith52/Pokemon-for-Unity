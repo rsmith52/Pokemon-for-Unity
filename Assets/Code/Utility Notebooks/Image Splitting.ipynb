{
 "cells": [
  {
   "cell_type": "code",
   "execution_count": 1,
   "metadata": {},
   "outputs": [],
   "source": [
    "# Imports\n",
    "import cv2\n",
    "import os\n",
    "from tqdm import tqdm\n",
    "import numpy as np"
   ]
  },
  {
   "cell_type": "code",
   "execution_count": 2,
   "metadata": {},
   "outputs": [],
   "source": [
    "# Settings\n",
    "DIRECTORY = \"Battlers\"\n",
    "MAX_WIDTH = 8192\n",
    "\n",
    "OUT_DIRECTORY = \"Results\""
   ]
  },
  {
   "cell_type": "code",
   "execution_count": 3,
   "metadata": {},
   "outputs": [],
   "source": [
    "# Slice Function\n",
    "def SliceImage(img, img_data):\n",
    "    frames_in_line = (MAX_WIDTH // img_data['height'])\n",
    "    slice_point = frames_in_line * img_data['height']\n",
    "    remaining_size = img_data['width'] - slice_point\n",
    "    # print(\"Will slice image: \" + img_data['name'] + \" at point: \" + str(slice_point) + \" and the remaining size is: \" + str(remaining_size))\n",
    "    \n",
    "    first_part = img[:,:slice_point,:]\n",
    "    second_part = img[:,slice_point:,:]\n",
    "    \n",
    "    # Second slice needed\n",
    "    if (len(second_part[0]) > MAX_WIDTH):\n",
    "        third_part = second_part[:,slice_point:,:]\n",
    "        second_part = second_part[:,:slice_point,:]\n",
    "        \n",
    "        # Third slice needed\n",
    "        if (len(third_part[0]) > MAX_WIDTH):\n",
    "            # print(\"Third slice needed\")\n",
    "            fourth_part = third_part[:,slice_point:,:]\n",
    "            third_part = third_part[:,:slice_point,:]\n",
    "            \n",
    "            # Fourth slice needed\n",
    "            if (len(fourth_part[0]) > MAX_WIDTH):\n",
    "                fifth_part = fourth_part[:,slice_point:,:]\n",
    "                fourth_part = fourth_part[:,:slice_point,:]\n",
    "                \n",
    "                if(len(fifth_part[0]) > MAX_WIDTH):\n",
    "                    sixth_part = fifth_part[:,slice_point:,:]\n",
    "                    fifth_part = fifth_part[:,:slice_point,:]\n",
    "                    \n",
    "                    last_remaining_size = slice_point - (slice_point - len(sixth_part[0]))\n",
    "\n",
    "                    new_img = np.zeros((6 * img_data['height'], len(first_part[0]), 4))\n",
    "                    new_img[:img_data['height'],:slice_point,:] = first_part\n",
    "                    new_img[img_data['height']:2 * img_data['height'],:remaining_size,:] = second_part\n",
    "                    new_img[2 * img_data['height']:3 * img_data['height'],:remaining_size,:] = third_part\n",
    "                    new_img[3 * img_data['height']:4 * img_data['height'],:remaining_size,:] = fourth_part\n",
    "                    new_img[4 * img_data['height']:5 * img_data['height'],:remaining_size,:] = fifth_part\n",
    "                    new_img[5 * img_data['height']:,:last_remaining_size,:] = sixth_part\n",
    "                # Four slices needed\n",
    "                else:\n",
    "                    last_remaining_size = slice_point - (slice_point - len(fifth_part[0]))\n",
    "\n",
    "                    new_img = np.zeros((5 * img_data['height'], len(first_part[0]), 4))\n",
    "                    new_img[:img_data['height'],:slice_point,:] = first_part\n",
    "                    new_img[img_data['height']:2 * img_data['height'],:remaining_size,:] = second_part\n",
    "                    new_img[2 * img_data['height']:3 * img_data['height'],:remaining_size,:] = third_part\n",
    "                    new_img[3 * img_data['height']:4 * img_data['height'],:remaining_size,:] = fourth_part\n",
    "                    new_img[4 * img_data['height']:,:last_remaining_size,:] = fifth_part\n",
    "            # Three slices needed\n",
    "            else:\n",
    "                last_remaining_size = slice_point - (slice_point - len(fourth_part[0]))\n",
    "\n",
    "                new_img = np.zeros((4 * img_data['height'], len(first_part[0]), 4))\n",
    "                new_img[:img_data['height'],:slice_point,:] = first_part\n",
    "                new_img[img_data['height']:2 * img_data['height'],:remaining_size,:] = second_part\n",
    "                new_img[2 * img_data['height']:3 * img_data['height'],:remaining_size,:] = third_part\n",
    "                new_img[3 * img_data['height']:,:last_remaining_size,:] = fourth_part\n",
    "        # Two slices needed\n",
    "        else:\n",
    "            last_remaining_size = slice_point - (slice_point - len(third_part[0]))\n",
    "\n",
    "            new_img = np.zeros((3 * img_data['height'], len(first_part[0]), 4))\n",
    "            new_img[:img_data['height'],:slice_point,:] = first_part\n",
    "            new_img[img_data['height']:2 * img_data['height'],:remaining_size,:] = second_part\n",
    "            new_img[2 * img_data['height']:,:last_remaining_size,:] = third_part\n",
    "    # Only one slice needed\n",
    "    else:\n",
    "        new_img = np.zeros((2 * img_data['height'], len(first_part[0]), 4))\n",
    "        new_img[:img_data['height'],:slice_point,:] = first_part\n",
    "        new_img[img_data['height']:,:remaining_size,:] = second_part\n",
    "    \n",
    "    # print(len(new_img), len(new_img[0]), len(new_img[0][0]))\n",
    "    \n",
    "    return new_img"
   ]
  },
  {
   "cell_type": "code",
   "execution_count": 8,
   "metadata": {},
   "outputs": [
    {
     "name": "stderr",
     "output_type": "stream",
     "text": [
      "Reading images: 100%|██████████| 3325/3325 [00:15<00:00, 210.45it/s]\n",
      "Slicing images: 100%|██████████| 3324/3324 [00:36<00:00, 92.32it/s] \n",
      "Writing images: 100%|██████████| 3324/3324 [01:54<00:00, 29.00it/s] \n"
     ]
    }
   ],
   "source": [
    "# Script\n",
    "image_data = []\n",
    "images = []\n",
    "\n",
    "filenames = os.listdir(DIRECTORY)\n",
    "filenames.sort()\n",
    "\n",
    "for i in tqdm(range(len(filenames)), desc=\"Reading images\"):\n",
    "    filename = filenames[i]\n",
    "    if (filename.endswith(\".png\")):\n",
    "        data = {}\n",
    "        data['name'] = filename\n",
    "        data['image'] = cv2.imread(os.path.join(DIRECTORY, filename), cv2.IMREAD_UNCHANGED)\n",
    "        images.append(data)\n",
    "    \n",
    "for i in range(len(images)):\n",
    "    data = {}\n",
    "    data['name'] = images[i]['name']\n",
    "    data['height'] = len(images[i]['image'])\n",
    "    data['width'] = len(images[i]['image'][0])\n",
    "    image_data.append(data)\n",
    "    \n",
    "for i in tqdm(range(len(images)), desc=\"Slicing images\"):\n",
    "    if (image_data[i]['width'] > MAX_WIDTH):\n",
    "        images[i]['image'] = SliceImage(images[i]['image'], image_data[i])\n",
    "        \n",
    "for i in tqdm(range(len(images)), desc=\"Writing images\"):\n",
    "    filename = os.path.join(OUT_DIRECTORY, image_data[i]['name'])\n",
    "    cv2.imwrite(filename, images[i]['image'])"
   ]
  },
  {
   "cell_type": "code",
   "execution_count": 15,
   "metadata": {},
   "outputs": [
    {
     "name": "stderr",
     "output_type": "stream",
     "text": [
      "Reading images: 100%|██████████| 2/2 [00:00<00:00, 697.37it/s]"
     ]
    },
    {
     "name": "stdout",
     "output_type": "stream",
     "text": [
      "{'name': '575b.png', 'height': 59, 'width': 9381}\n"
     ]
    },
    {
     "name": "stderr",
     "output_type": "stream",
     "text": [
      "\n"
     ]
    }
   ],
   "source": [
    "# Info on special cases\n",
    "special_directory = \"Special Cases\"\n",
    "\n",
    "# Script\n",
    "image_data = []\n",
    "images = []\n",
    "\n",
    "filenames = os.listdir(special_directory)\n",
    "filenames.sort()\n",
    "\n",
    "for i in tqdm(range(len(filenames)), desc=\"Reading images\"):\n",
    "    filename = filenames[i]\n",
    "    if (filename.endswith(\".png\")):\n",
    "        data = {}\n",
    "        data['name'] = filename\n",
    "        data['image'] = cv2.imread(os.path.join(special_directory, filename))\n",
    "        images.append(data)\n",
    "\n",
    "for i in range(len(images)):\n",
    "    data = {}\n",
    "    data['name'] = images[i]['name']\n",
    "    data['height'] = len(images[i]['image'])\n",
    "    data['width'] = len(images[i]['image'][0])\n",
    "    image_data.append(data)\n",
    "    print(data)"
   ]
  },
  {
   "cell_type": "code",
   "execution_count": 16,
   "metadata": {},
   "outputs": [
    {
     "data": {
      "text/plain": [
       "21"
      ]
     },
     "execution_count": 16,
     "metadata": {},
     "output_type": "execute_result"
    }
   ],
   "source": [
    "159 - 138"
   ]
  },
  {
   "cell_type": "code",
   "execution_count": null,
   "metadata": {},
   "outputs": [],
   "source": []
  }
 ],
 "metadata": {
  "kernelspec": {
   "display_name": "Python 3",
   "language": "python",
   "name": "python3"
  },
  "language_info": {
   "codemirror_mode": {
    "name": "ipython",
    "version": 3
   },
   "file_extension": ".py",
   "mimetype": "text/x-python",
   "name": "python",
   "nbconvert_exporter": "python",
   "pygments_lexer": "ipython3",
   "version": "3.7.2"
  }
 },
 "nbformat": 4,
 "nbformat_minor": 2
}
